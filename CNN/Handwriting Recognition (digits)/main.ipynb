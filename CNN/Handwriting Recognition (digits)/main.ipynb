{
 "cells": [
  {
   "cell_type": "code",
   "id": "initial_id",
   "metadata": {
    "collapsed": true,
    "ExecuteTime": {
     "end_time": "2024-09-26T15:28:07.576541Z",
     "start_time": "2024-09-26T15:28:07.568478Z"
    }
   },
   "source": [
    "import numpy as np\n",
    "import matplotlib.pyplot as plt\n",
    "from tensorflow.keras.models import Sequential\n",
    "from tensorflow.keras.layers import Dense, Dropout, Activation, Flatten\n",
    "from tensorflow.keras.layers import Conv2D, MaxPooling2D\n",
    "from tensorflow.keras.utils import to_categorical\n",
    "from tensorflow.keras.datasets import mnist"
   ],
   "outputs": [],
   "execution_count": 13
  },
  {
   "metadata": {
    "ExecuteTime": {
     "end_time": "2024-09-26T15:28:08.378562Z",
     "start_time": "2024-09-26T15:28:08.237308Z"
    }
   },
   "cell_type": "code",
   "source": [
    "# Load dữ liệu MNIST\n",
    "# 60000 dữ liệu ở training set và 10000 dữ liệu ở test set , chia 50000 dữ liệu cho training set và 10000 dữ liệu cho validation set, giữ nguyên 10000 dữ liệu của test set\n",
    "(X_train, y_train), (X_test, y_test) = mnist.load_data()\n",
    "X_val, y_val = X_train[50000:60000,:], y_train[50000:60000]\n",
    "X_train, y_train = X_train[:50000,:], y_train[:50000]\n",
    "print(X_train.shape)"
   ],
   "id": "42fe8dfd3e749be2",
   "outputs": [
    {
     "name": "stdout",
     "output_type": "stream",
     "text": [
      "(50000, 28, 28)\n"
     ]
    }
   ],
   "execution_count": 14
  },
  {
   "metadata": {
    "ExecuteTime": {
     "end_time": "2024-09-26T15:28:12.152378Z",
     "start_time": "2024-09-26T15:28:12.144850Z"
    }
   },
   "cell_type": "code",
   "source": [
    "# Reshape lại dữ liệu \n",
    "X_train = X_train.reshape(X_train.shape[0], 28, 28, 1)\n",
    "X_val = X_val.reshape(X_val.shape[0], 28, 28, 1)\n",
    "X_test = X_test.reshape(X_test.shape[0], 28, 28, 1)\n",
    "\n",
    "# One-hot encoding label (Y)\n",
    "Y_train = to_categorical(y_train, 10)\n",
    "Y_val = to_categorical(y_val, 10)\n",
    "Y_test = to_categorical(y_test, 10)\n",
    "\n",
    "print(\"Dữ liệu ban đầu: \", y_train[0])\n",
    "print(\"Dữ liệu sau khi one-hot encoding: \", Y_train[0])"
   ],
   "id": "ee71e325222e5826",
   "outputs": [
    {
     "name": "stdout",
     "output_type": "stream",
     "text": [
      "Dữ liệu ban đầu:  5\n",
      "Dữ liệu sau khi one-hot encoding:  [0. 0. 0. 0. 0. 1. 0. 0. 0. 0.]\n"
     ]
    }
   ],
   "execution_count": 15
  },
  {
   "metadata": {
    "ExecuteTime": {
     "end_time": "2024-09-26T15:37:52.438002Z",
     "start_time": "2024-09-26T15:33:58.331006Z"
    }
   },
   "cell_type": "code",
   "source": [
    "# 5. Định nghĩa model\n",
    "model = Sequential()\n",
    "\n",
    "# Thêm convolutional layer với 32 kernel, kích thước kernel 3*3\n",
    "# Dùng hàm sigmoid làm activation và chỉ rõ input_shape cho layer đầu tiên\n",
    "model.add(Conv2D(32, kernel_size = (3, 3), activation = 'sigmoid', input_shape = (28, 28, 1)))\n",
    "\n",
    "# Thêm convolutional layer\n",
    "model.add(Conv2D(32, kernel_size = (3, 3), activation = 'sigmoid'))\n",
    "\n",
    "# Thêm Max pooling layer\n",
    "model.add(MaxPooling2D(pool_size = (2, 2)))\n",
    "\n",
    "# Flatten layer để chuyển từ tensor sang vector\n",
    "model.add(Flatten())\n",
    "\n",
    "# Thêm Fully Connected layer với 128 nodes và dùng hàm sigmoid\n",
    "model.add(Dense(128, activation = 'sigmoid'))\n",
    "\n",
    "# Output layer với 10 nodes và dùng hàm softmax\n",
    "model.add(Dense(10, activation = 'softmax'))\n",
    "\n",
    "# 6. Compile model, chỉ rõ hàm loss function nào được sử dụng, phương thức dùng để tối ưu hàm loss function\n",
    "model.compile(loss = 'categorical_crossentropy', optimizer = 'adam', metrics = ['accuracy'])\n",
    "\n",
    "# 7. Thực hiện train model với data\n",
    "H = model.fit(X_train, Y_train, validation_data = (X_val, Y_val), batch_size = 32, epochs = 10 , verbose = 1)"
   ],
   "id": "5d4cb896cad3e2c2",
   "outputs": [
    {
     "name": "stdout",
     "output_type": "stream",
     "text": [
      "Epoch 1/10\n",
      "\u001B[1m1563/1563\u001B[0m \u001B[32m━━━━━━━━━━━━━━━━━━━━\u001B[0m\u001B[37m\u001B[0m \u001B[1m23s\u001B[0m 14ms/step - accuracy: 0.8257 - loss: 0.5848 - val_accuracy: 0.9806 - val_loss: 0.0712\n",
      "Epoch 2/10\n",
      "\u001B[1m1563/1563\u001B[0m \u001B[32m━━━━━━━━━━━━━━━━━━━━\u001B[0m\u001B[37m\u001B[0m \u001B[1m23s\u001B[0m 15ms/step - accuracy: 0.9836 - loss: 0.0593 - val_accuracy: 0.9864 - val_loss: 0.0479\n",
      "Epoch 3/10\n",
      "\u001B[1m1563/1563\u001B[0m \u001B[32m━━━━━━━━━━━━━━━━━━━━\u001B[0m\u001B[37m\u001B[0m \u001B[1m23s\u001B[0m 15ms/step - accuracy: 0.9904 - loss: 0.0352 - val_accuracy: 0.9859 - val_loss: 0.0495\n",
      "Epoch 4/10\n",
      "\u001B[1m1563/1563\u001B[0m \u001B[32m━━━━━━━━━━━━━━━━━━━━\u001B[0m\u001B[37m\u001B[0m \u001B[1m23s\u001B[0m 15ms/step - accuracy: 0.9938 - loss: 0.0231 - val_accuracy: 0.9870 - val_loss: 0.0455\n",
      "Epoch 5/10\n",
      "\u001B[1m1563/1563\u001B[0m \u001B[32m━━━━━━━━━━━━━━━━━━━━\u001B[0m\u001B[37m\u001B[0m \u001B[1m23s\u001B[0m 15ms/step - accuracy: 0.9954 - loss: 0.0166 - val_accuracy: 0.9882 - val_loss: 0.0386\n",
      "Epoch 6/10\n",
      "\u001B[1m1563/1563\u001B[0m \u001B[32m━━━━━━━━━━━━━━━━━━━━\u001B[0m\u001B[37m\u001B[0m \u001B[1m23s\u001B[0m 15ms/step - accuracy: 0.9980 - loss: 0.0092 - val_accuracy: 0.9905 - val_loss: 0.0356\n",
      "Epoch 7/10\n",
      "\u001B[1m1563/1563\u001B[0m \u001B[32m━━━━━━━━━━━━━━━━━━━━\u001B[0m\u001B[37m\u001B[0m \u001B[1m23s\u001B[0m 15ms/step - accuracy: 0.9987 - loss: 0.0059 - val_accuracy: 0.9880 - val_loss: 0.0408\n",
      "Epoch 8/10\n",
      "\u001B[1m1563/1563\u001B[0m \u001B[32m━━━━━━━━━━━━━━━━━━━━\u001B[0m\u001B[37m\u001B[0m \u001B[1m23s\u001B[0m 15ms/step - accuracy: 0.9987 - loss: 0.0054 - val_accuracy: 0.9899 - val_loss: 0.0376\n",
      "Epoch 9/10\n",
      "\u001B[1m1563/1563\u001B[0m \u001B[32m━━━━━━━━━━━━━━━━━━━━\u001B[0m\u001B[37m\u001B[0m \u001B[1m24s\u001B[0m 15ms/step - accuracy: 0.9994 - loss: 0.0034 - val_accuracy: 0.9875 - val_loss: 0.0447\n",
      "Epoch 10/10\n",
      "\u001B[1m1563/1563\u001B[0m \u001B[32m━━━━━━━━━━━━━━━━━━━━\u001B[0m\u001B[37m\u001B[0m \u001B[1m24s\u001B[0m 16ms/step - accuracy: 0.9993 - loss: 0.0030 - val_accuracy: 0.9895 - val_loss: 0.0417\n"
     ]
    }
   ],
   "execution_count": 17
  },
  {
   "metadata": {
    "ExecuteTime": {
     "end_time": "2024-09-26T15:37:52.537482Z",
     "start_time": "2024-09-26T15:37:52.439089Z"
    }
   },
   "cell_type": "code",
   "source": [
    "# 8. Vẽ đồ thị loss, accuracy của training set và validation set\n",
    "fig = plt.figure()\n",
    "numOfepochs = 10\n",
    "plt.plot(np.arange(0, numOfepochs), H.history['loss'], label = 'Training loss')\n",
    "plt.plot(np.arange(0, numOfepochs), H.history['val_loss'], label = 'Validation loss')\n",
    "plt.plot(np.arange(0, numOfepochs), H.history['accuracy'], label = 'Accuracy')\n",
    "plt.plot(np.arange(0, numOfepochs), H.history['val_accuracy'], label = 'Validation accuracy')\n",
    "plt.title('Accuracy and Loss')\n",
    "plt.xlabel('Epochs')\n",
    "plt.ylabel('Accuracy')\n",
    "plt.legend()"
   ],
   "id": "85ff6556e1d2f3ae",
   "outputs": [
    {
     "data": {
      "text/plain": [
       "<matplotlib.legend.Legend at 0x319dd1f40>"
      ]
     },
     "execution_count": 18,
     "metadata": {},
     "output_type": "execute_result"
    },
    {
     "data": {
      "text/plain": [
       "<Figure size 640x480 with 1 Axes>"
      ],
      "image/png": "[encoded data removed]"
     },
     "metadata": {},
     "output_type": "display_data"
    }
   ],
   "execution_count": 18
  },
  {
   "metadata": {
    "ExecuteTime": {
     "end_time": "2024-09-26T15:41:59.139754Z",
     "start_time": "2024-09-26T15:41:57.891851Z"
    }
   },
   "cell_type": "code",
   "source": [
    "# 9. Đánh giá dữ model với dữ liệu test set\n",
    "score = model.evaluate(X_test, Y_test, verbose=0)\n",
    "print(score)"
   ],
   "id": "19c12a5614a6c3af",
   "outputs": [
    {
     "name": "stdout",
     "output_type": "stream",
     "text": [
      "[0.03337867558002472, 0.989799976348877]\n"
     ]
    }
   ],
   "execution_count": 20
  },
  {
   "metadata": {
    "ExecuteTime": {
     "end_time": "2024-09-26T15:44:26.945766Z",
     "start_time": "2024-09-26T15:44:26.847725Z"
    }
   },
   "cell_type": "code",
   "source": [
    "# 10. Dự đoán ảnh\n",
    "plt.imshow(X_test[15].reshape(28, 28), cmap = 'gray')\n",
    "\n",
    "y_predict = model.predict(X_test[15].reshape(1, 28, 28))\n",
    "print('Giá trị dự đoán: ', np.argmax(y_predict))"
   ],
   "id": "66df2cd610cab995",
   "outputs": [
    {
     "name": "stdout",
     "output_type": "stream",
     "text": [
      "\u001B[1m1/1\u001B[0m \u001B[32m━━━━━━━━━━━━━━━━━━━━\u001B[0m\u001B[37m\u001B[0m \u001B[1m0s\u001B[0m 11ms/step\n",
      "Giá trị dự đoán:  5\n"
     ]
    },
    {
     "data": {
      "text/plain": [
       "<Figure size 640x480 with 1 Axes>"
      ],
      "image/png": "[encoded data removed]"
     },
     "metadata": {},
     "output_type": "display_data"
    }
   ],
   "execution_count": 32
  },
  {
   "metadata": {},
   "cell_type": "code",
   "outputs": [],
   "execution_count": null,
   "source": "",
   "id": "5db50c17b293b70b"
  }
 ],
 "metadata": {
  "kernelspec": {
   "display_name": "Python 3",
   "language": "python",
   "name": "python3"
  },
  "language_info": {
   "codemirror_mode": {
    "name": "ipython",
    "version": 2
   },
   "file_extension": ".py",
   "mimetype": "text/x-python",
   "name": "python",
   "nbconvert_exporter": "python",
   "pygments_lexer": "ipython2",
   "version": "2.7.6"
  }
 },
 "nbformat": 4,
 "nbformat_minor": 5
}
